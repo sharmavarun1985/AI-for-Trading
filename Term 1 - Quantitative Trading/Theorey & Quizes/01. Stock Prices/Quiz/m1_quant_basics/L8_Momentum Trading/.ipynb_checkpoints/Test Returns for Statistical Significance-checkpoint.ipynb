{
 "cells": [
  {
   "cell_type": "code",
   "execution_count": 1,
   "metadata": {},
   "outputs": [
    {
     "ename": "AttributeError",
     "evalue": "type object 'Series' has no attribute 'from_csv'",
     "output_type": "error",
     "traceback": [
      "\u001b[1;31m---------------------------------------------------------------------------\u001b[0m",
      "\u001b[1;31mAttributeError\u001b[0m                            Traceback (most recent call last)",
      "\u001b[1;32m<ipython-input-1-eb7247bcceea>\u001b[0m in \u001b[0;36m<module>\u001b[1;34m\u001b[0m\n\u001b[0;32m     64\u001b[0m \u001b[1;33m\u001b[0m\u001b[0m\n\u001b[0;32m     65\u001b[0m \u001b[1;32mif\u001b[0m \u001b[0m__name__\u001b[0m \u001b[1;33m==\u001b[0m \u001b[1;34m'__main__'\u001b[0m\u001b[1;33m:\u001b[0m\u001b[1;33m\u001b[0m\u001b[1;33m\u001b[0m\u001b[0m\n\u001b[1;32m---> 66\u001b[1;33m     \u001b[0mtest_run\u001b[0m\u001b[1;33m(\u001b[0m\u001b[1;33m)\u001b[0m\u001b[1;33m\u001b[0m\u001b[1;33m\u001b[0m\u001b[0m\n\u001b[0m",
      "\u001b[1;32m<ipython-input-1-eb7247bcceea>\u001b[0m in \u001b[0;36mtest_run\u001b[1;34m(filename)\u001b[0m\n\u001b[0;32m     58\u001b[0m \u001b[1;32mdef\u001b[0m \u001b[0mtest_run\u001b[0m\u001b[1;33m(\u001b[0m\u001b[0mfilename\u001b[0m\u001b[1;33m=\u001b[0m\u001b[1;34m'net_returns.csv'\u001b[0m\u001b[1;33m)\u001b[0m\u001b[1;33m:\u001b[0m\u001b[1;33m\u001b[0m\u001b[1;33m\u001b[0m\u001b[0m\n\u001b[0;32m     59\u001b[0m     \u001b[1;34m\"\"\"Test run analyze_returns() with net strategy returns from a file.\"\"\"\u001b[0m\u001b[1;33m\u001b[0m\u001b[1;33m\u001b[0m\u001b[0m\n\u001b[1;32m---> 60\u001b[1;33m     \u001b[0mnet_returns\u001b[0m \u001b[1;33m=\u001b[0m \u001b[0mpd\u001b[0m\u001b[1;33m.\u001b[0m\u001b[0mSeries\u001b[0m\u001b[1;33m.\u001b[0m\u001b[0mfrom_csv\u001b[0m\u001b[1;33m(\u001b[0m\u001b[0mfilename\u001b[0m\u001b[1;33m,\u001b[0m \u001b[0mheader\u001b[0m\u001b[1;33m=\u001b[0m\u001b[1;36m0\u001b[0m\u001b[1;33m)\u001b[0m\u001b[1;33m\u001b[0m\u001b[1;33m\u001b[0m\u001b[0m\n\u001b[0m\u001b[0;32m     61\u001b[0m     \u001b[0mt\u001b[0m\u001b[1;33m,\u001b[0m \u001b[0mp\u001b[0m \u001b[1;33m=\u001b[0m \u001b[0manalyze_returns\u001b[0m\u001b[1;33m(\u001b[0m\u001b[0mnet_returns\u001b[0m\u001b[1;33m)\u001b[0m\u001b[1;33m\u001b[0m\u001b[1;33m\u001b[0m\u001b[0m\n\u001b[0;32m     62\u001b[0m     \u001b[0mprint\u001b[0m\u001b[1;33m(\u001b[0m\u001b[1;34m\"t-statistic: {:.3f}\\np-value: {:.6f}\"\u001b[0m\u001b[1;33m.\u001b[0m\u001b[0mformat\u001b[0m\u001b[1;33m(\u001b[0m\u001b[0mt\u001b[0m\u001b[1;33m,\u001b[0m \u001b[0mp\u001b[0m\u001b[1;33m)\u001b[0m\u001b[1;33m)\u001b[0m\u001b[1;33m\u001b[0m\u001b[1;33m\u001b[0m\u001b[0m\n",
      "\u001b[1;31mAttributeError\u001b[0m: type object 'Series' has no attribute 'from_csv'"
     ]
    }
   ],
   "source": [
    "import pandas as pd\n",
    "import numpy as np\n",
    "import scipy.stats as stats\n",
    "\n",
    "def analyze_returns(net_returns):\n",
    "    \"\"\"\n",
    "    Perform a t-test, with the null hypothesis being that the mean return is zero.\n",
    "    \n",
    "    Parameters\n",
    "    ----------\n",
    "    net_returns : Pandas Series\n",
    "        A Pandas Series for each date\n",
    "    \n",
    "    Returns\n",
    "    -------\n",
    "    t_value\n",
    "        t-statistic from t-test\n",
    "    p_value\n",
    "        Corresponding p-value\n",
    "    \"\"\"\n",
    "    # TODO: Perform one-tailed t-test on net_returns\n",
    "    # Hint: You can use stats.ttest_1samp() to perform the test.\n",
    "    #       However, this performs a two-tailed t-test.\n",
    "    #       You'll need to divde the p-value by 2 to get the results of a one-tailed p-value.\n",
    "    null_hypothesis = 0.0 # it means the m (mew oe mean of the population is zero)\n",
    "    \n",
    "    ## proper calculation\n",
    "    # calculate sample mean\n",
    "    x = net_returns.mean()\n",
    "    print(\"sample mean: \", x)\n",
    "    \n",
    "    # calculate sample standard deviation\n",
    "    s = net_returns.std()\n",
    "    print(\"sample standard deviation: \", s)\n",
    "    \n",
    "    # Observation count\n",
    "    n = net_returns.count()\n",
    "    print(\"number of observations: \", n)\n",
    "    \n",
    "    # calculate standard error\n",
    "    sx = s/np.sqrt(n)\n",
    "    print(\"standard error: \", n)\n",
    "    \n",
    "    # t-test\n",
    "    t = x/sx\n",
    "    print(\"t-stat calculated: \", t)\n",
    "   \n",
    " \n",
    "    \n",
    "    ## calculated by Scipy package\n",
    "    # stats.ttest_1samp(x, m) where x is sample mean and m is population mean \n",
    "    t, p = stats.ttest_1samp(net_returns, null_hypothesis)\n",
    "    print(\"t, p from stats packege:\", t, p/2)\n",
    "   \n",
    "    p_onetail = p/2\n",
    "    return (t, p_onetail)\n",
    "    \n",
    "def test_run(filename='net_returns.csv'):\n",
    "    \"\"\"Test run analyze_returns() with net strategy returns from a file.\"\"\"\n",
    "    net_returns = pd.Series.from_csv(filename, header=0)\n",
    "    t, p = analyze_returns(net_returns)\n",
    "    print(\"t-statistic: {:.3f}\\np-value: {:.6f}\".format(t, p))\n",
    "\n",
    "\n",
    "if __name__ == '__main__':\n",
    "    test_run()"
   ]
  },
  {
   "cell_type": "code",
   "execution_count": null,
   "metadata": {},
   "outputs": [],
   "source": []
  }
 ],
 "metadata": {
  "kernelspec": {
   "display_name": "Python 3",
   "language": "python",
   "name": "python3"
  },
  "language_info": {
   "codemirror_mode": {
    "name": "ipython",
    "version": 3
   },
   "file_extension": ".py",
   "mimetype": "text/x-python",
   "name": "python",
   "nbconvert_exporter": "python",
   "pygments_lexer": "ipython3",
   "version": "3.8.5"
  }
 },
 "nbformat": 4,
 "nbformat_minor": 4
}
